{
 "cells": [
  {
   "cell_type": "code",
   "execution_count": 1,
   "metadata": {},
   "outputs": [
    {
     "name": "stdout",
     "output_type": "stream",
     "text": [
      "Returns home at n = 30\n"
     ]
    },
    {
     "data": {
      "application/vnd.jupyter.widget-view+json": {
       "model_id": "659da6ea16df4ec4884348f830bbd143",
       "version_major": 2,
       "version_minor": 0
      },
      "text/plain": [
       "interactive(children=(IntSlider(value=0, description='n', max=50000), Output()), _dom_classes=('widget-interac…"
      ]
     },
     "metadata": {},
     "output_type": "display_data"
    }
   ],
   "source": [
    "import matplotlib.pyplot as plt\n",
    "from ipywidgets import interact\n",
    "import ipywidgets as widgets\n",
    "import random\n",
    "point_num = 50000\n",
    "factor = 20\n",
    "x_vals =[0]\n",
    "y_vals =[0]\n",
    "for i in range(0,point_num):\n",
    "    x_vals.append(x_vals[-1]+random.randint(-1,1))\n",
    "    y_vals.append(y_vals[-1]+random.randint(-1,1))\n",
    "    if((x_vals[i]==0)and(y_vals[i]==0))and(i!=0):\n",
    "        print(\"Returns home at n = \"+str(i))\n",
    "\n",
    "@interact(n=widgets.IntSlider(min=0, max=point_num, step=1, value=0))\n",
    "def plots(n):\n",
    "    plt.xlim(min(x_vals)-1,max(x_vals)+1)\n",
    "    plt.ylim(min(y_vals)-1,max(y_vals)+1)\n",
    "    plt.plot(x_vals[0:n],y_vals[0:n],color=\"#22b14c\")\n",
    "    \n",
    "    ax = plt.gca()\n",
    "    ax.set_facecolor('#0077bb')\n",
    "    \n",
    "    #plt.plot(0,0,\"ro\") #plot the particle's initial position with a red dot\n",
    "    plt.show()\n"
   ]
  },
  {
   "cell_type": "code",
   "execution_count": null,
   "metadata": {},
   "outputs": [],
   "source": []
  },
  {
   "cell_type": "code",
   "execution_count": null,
   "metadata": {},
   "outputs": [],
   "source": []
  }
 ],
 "metadata": {
  "kernelspec": {
   "display_name": "Python 3",
   "language": "python",
   "name": "python3"
  },
  "language_info": {
   "codemirror_mode": {
    "name": "ipython",
    "version": 3
   },
   "file_extension": ".py",
   "mimetype": "text/x-python",
   "name": "python",
   "nbconvert_exporter": "python",
   "pygments_lexer": "ipython3",
   "version": "3.7.3"
  }
 },
 "nbformat": 4,
 "nbformat_minor": 2
}
